{
 "cells": [
  {
   "cell_type": "markdown",
   "id": "e46479ce",
   "metadata": {},
   "source": [
    "## Capstone Project - RSNA Pneumonia Detection Challenge\n",
    "**Problem Statement**\n",
    "\n",
    "In this capstone project, the goal is to build a pneumonia detection system, to locate the position of inflammation in an image. Tissues with sparse material, such as lungs which are full of air, do not absorb the X-rays and appear black in the image. Dense tissues such as bones absorb X-rays and appear white in the image. While we are theoretically detecting “lung opacities”, there are lung opacities that are not pneumonia related. In the data, some of these are labeled “Not Normal No Lung Opacity”. This extra third class indicates that while pneumonia was determined not to be present, there was nonetheless some type of abnormality on the image and oftentimes this finding may mimic the appearance of true pneumonia.\n",
    "\n",
    "**Dicom original images**: Medical images are stored in a special format called DICOM files (*.dcm). They contain a combination of header metadata as well as underlying raw image arrays for pixel data.\n",
    "\n",
    "**Here’s the backstory and why solving this problem matters**\n",
    "\n",
    "**Pneumonia accounts for over 15% of all deaths of children under 5 years old internationally.** In 2015, 920,000 children under the age of 5 died from the disease. In the United States, pneumonia accounts for over 500,000 visits to emergency departments and over 50,000 deaths in 2015, keeping the ailment on the list of top 10 causes of death in the country.\n",
    "\n",
    "While common, accurately diagnosing pneumonia is a tall order. It requires review of a **chest radiograph (CXR)** by **highly trained specialists** and confirmation through clinical history, vital signs and laboratory exams. Pneumonia usually manifests as an area or areas of increased opacity on CXR. However, the **diagnosis of pneumonia on CXR is complicated** because of a number of other conditions in the lungs such as fluid overload (pulmonary edema), bleeding, volume loss (atelectasis or collapse), lung cancer, or post-radiation or surgical changes. Outside of the lungs, fluid in the pleural space (pleural effusion) also appears as increased opacity on CXR. When available, comparison of CXRs of the patient taken at different time points and correlation with clinical symptoms and history are helpful in making the diagnosis.\n",
    "\n",
    "CXRs are the most commonly performed diagnostic imaging study. **A number of factors such as positioning of the patient and depth of inspiration can alter the appearance of the CXR, complicating interpretation further. In addition, clinicians are faced with reading high volumes of images every shift.**\n",
    "\n",
    "\n",
    "To improve the efficiency and reach of diagnostic services, the Radiological Society of North America (RSNA®) has reached out to Kaggle’s machine learning community and collaborated with the US National Institutes of Health, The Society of Thoracic Radiology, and MD.ai to develop a rich dataset for this challenge. ([Description Source](https://www.kaggle.com/c/rsna-pneumonia-detection-challenge/overview/description))\n",
    "\n",
    "**Data Source**: https://www.kaggle.com/c/rsna-pneumonia-detection-challenge/data"
   ]
  },
  {
   "cell_type": "markdown",
   "id": "8fe8c665",
   "metadata": {},
   "source": [
    "## Import Packages"
   ]
  },
  {
   "cell_type": "code",
   "execution_count": 1,
   "id": "043d1bea",
   "metadata": {},
   "outputs": [
    {
     "name": "stdout",
     "output_type": "stream",
     "text": [
      "Requirement already satisfied: pydicom in c:\\users\\sagar\\anaconda3\\envs\\tensorflow-gpu\\lib\\site-packages (2.2.0)\n"
     ]
    },
    {
     "name": "stderr",
     "output_type": "stream",
     "text": [
      "WARNING: Error parsing requirements for matplotlib: [Errno 2] No such file or directory: 'c:\\\\users\\\\sagar\\\\anaconda3\\\\envs\\\\tensorflow-gpu\\\\lib\\\\site-packages\\\\matplotlib-3.4.3.dist-info\\\\METADATA'\n"
     ]
    },
    {
     "name": "stdout",
     "output_type": "stream",
     "text": [
      "Requirement already satisfied: opencv-python in c:\\users\\sagar\\anaconda3\\envs\\tensorflow-gpu\\lib\\site-packages (4.5.3.56)\n",
      "Requirement already satisfied: numpy>=1.13.3 in c:\\users\\sagar\\anaconda3\\envs\\tensorflow-gpu\\lib\\site-packages (from opencv-python) (1.19.5)\n"
     ]
    },
    {
     "name": "stderr",
     "output_type": "stream",
     "text": [
      "WARNING: Error parsing requirements for matplotlib: [Errno 2] No such file or directory: 'c:\\\\users\\\\sagar\\\\anaconda3\\\\envs\\\\tensorflow-gpu\\\\lib\\\\site-packages\\\\matplotlib-3.4.3.dist-info\\\\METADATA'\n"
     ]
    },
    {
     "name": "stdout",
     "output_type": "stream",
     "text": [
      "Requirement already satisfied: tensorflow in c:\\users\\sagar\\anaconda3\\envs\\tensorflow-gpu\\lib\\site-packages (2.6.0)\n",
      "Requirement already satisfied: termcolor~=1.1.0 in c:\\users\\sagar\\anaconda3\\envs\\tensorflow-gpu\\lib\\site-packages (from tensorflow) (1.1.0)\n",
      "Requirement already satisfied: clang~=5.0 in c:\\users\\sagar\\anaconda3\\envs\\tensorflow-gpu\\lib\\site-packages (from tensorflow) (5.0)\n",
      "Requirement already satisfied: grpcio<2.0,>=1.37.0 in c:\\users\\sagar\\anaconda3\\envs\\tensorflow-gpu\\lib\\site-packages (from tensorflow) (1.38.1)\n",
      "Requirement already satisfied: astunparse~=1.6.3 in c:\\users\\sagar\\anaconda3\\envs\\tensorflow-gpu\\lib\\site-packages (from tensorflow) (1.6.3)\n",
      "Requirement already satisfied: keras-preprocessing~=1.1.2 in c:\\users\\sagar\\anaconda3\\envs\\tensorflow-gpu\\lib\\site-packages (from tensorflow) (1.1.2)\n",
      "Requirement already satisfied: opt-einsum~=3.3.0 in c:\\users\\sagar\\anaconda3\\envs\\tensorflow-gpu\\lib\\site-packages (from tensorflow) (3.3.0)\n",
      "Requirement already satisfied: absl-py~=0.10 in c:\\users\\sagar\\anaconda3\\envs\\tensorflow-gpu\\lib\\site-packages (from tensorflow) (0.13.0)\n",
      "Requirement already satisfied: protobuf>=3.9.2 in c:\\users\\sagar\\anaconda3\\envs\\tensorflow-gpu\\lib\\site-packages (from tensorflow) (3.17.3)\n",
      "Requirement already satisfied: wheel~=0.35 in c:\\users\\sagar\\anaconda3\\envs\\tensorflow-gpu\\lib\\site-packages (from tensorflow) (0.36.2)\n",
      "Requirement already satisfied: gast==0.4.0 in c:\\users\\sagar\\anaconda3\\envs\\tensorflow-gpu\\lib\\site-packages (from tensorflow) (0.4.0)\n",
      "Requirement already satisfied: tensorflow-estimator~=2.6 in c:\\users\\sagar\\anaconda3\\envs\\tensorflow-gpu\\lib\\site-packages (from tensorflow) (2.6.0)\n",
      "Requirement already satisfied: h5py~=3.1.0 in c:\\users\\sagar\\anaconda3\\envs\\tensorflow-gpu\\lib\\site-packages (from tensorflow) (3.1.0)\n",
      "Requirement already satisfied: six~=1.15.0 in c:\\users\\sagar\\anaconda3\\envs\\tensorflow-gpu\\lib\\site-packages (from tensorflow) (1.15.0)\n",
      "Requirement already satisfied: flatbuffers~=1.12.0 in c:\\users\\sagar\\anaconda3\\envs\\tensorflow-gpu\\lib\\site-packages (from tensorflow) (1.12)\n",
      "Requirement already satisfied: wrapt~=1.12.1 in c:\\users\\sagar\\anaconda3\\envs\\tensorflow-gpu\\lib\\site-packages (from tensorflow) (1.12.1)\n",
      "Requirement already satisfied: google-pasta~=0.2 in c:\\users\\sagar\\anaconda3\\envs\\tensorflow-gpu\\lib\\site-packages (from tensorflow) (0.2.0)\n",
      "Requirement already satisfied: tensorboard~=2.6 in c:\\users\\sagar\\anaconda3\\envs\\tensorflow-gpu\\lib\\site-packages (from tensorflow) (2.6.0)\n",
      "Requirement already satisfied: keras~=2.6 in c:\\users\\sagar\\anaconda3\\envs\\tensorflow-gpu\\lib\\site-packages (from tensorflow) (2.6.0)\n",
      "Requirement already satisfied: numpy~=1.19.2 in c:\\users\\sagar\\anaconda3\\envs\\tensorflow-gpu\\lib\\site-packages (from tensorflow) (1.19.5)\n",
      "Requirement already satisfied: typing-extensions~=3.7.4 in c:\\users\\sagar\\anaconda3\\envs\\tensorflow-gpu\\lib\\site-packages (from tensorflow) (3.7.4.3)\n",
      "Requirement already satisfied: cached-property in c:\\users\\sagar\\anaconda3\\envs\\tensorflow-gpu\\lib\\site-packages (from h5py~=3.1.0->tensorflow) (1.5.2)\n",
      "Requirement already satisfied: markdown>=2.6.8 in c:\\users\\sagar\\anaconda3\\envs\\tensorflow-gpu\\lib\\site-packages (from tensorboard~=2.6->tensorflow) (3.3.4)\n",
      "Requirement already satisfied: tensorboard-data-server<0.7.0,>=0.6.0 in c:\\users\\sagar\\anaconda3\\envs\\tensorflow-gpu\\lib\\site-packages (from tensorboard~=2.6->tensorflow) (0.6.1)\n",
      "Requirement already satisfied: google-auth<2,>=1.6.3 in c:\\users\\sagar\\anaconda3\\envs\\tensorflow-gpu\\lib\\site-packages (from tensorboard~=2.6->tensorflow) (1.32.0)\n",
      "Requirement already satisfied: google-auth-oauthlib<0.5,>=0.4.1 in c:\\users\\sagar\\anaconda3\\envs\\tensorflow-gpu\\lib\\site-packages (from tensorboard~=2.6->tensorflow) (0.4.4)\n",
      "Requirement already satisfied: requests<3,>=2.21.0 in c:\\users\\sagar\\anaconda3\\envs\\tensorflow-gpu\\lib\\site-packages (from tensorboard~=2.6->tensorflow) (2.25.1)\n",
      "Requirement already satisfied: werkzeug>=0.11.15 in c:\\users\\sagar\\anaconda3\\envs\\tensorflow-gpu\\lib\\site-packages (from tensorboard~=2.6->tensorflow) (2.0.1)\n",
      "Requirement already satisfied: setuptools>=41.0.0 in c:\\users\\sagar\\anaconda3\\envs\\tensorflow-gpu\\lib\\site-packages (from tensorboard~=2.6->tensorflow) (52.0.0.post20210125)\n",
      "Requirement already satisfied: tensorboard-plugin-wit>=1.6.0 in c:\\users\\sagar\\anaconda3\\envs\\tensorflow-gpu\\lib\\site-packages (from tensorboard~=2.6->tensorflow) (1.8.0)\n",
      "Requirement already satisfied: rsa<5,>=3.1.4 in c:\\users\\sagar\\anaconda3\\envs\\tensorflow-gpu\\lib\\site-packages (from google-auth<2,>=1.6.3->tensorboard~=2.6->tensorflow) (4.7.2)\n",
      "Requirement already satisfied: pyasn1-modules>=0.2.1 in c:\\users\\sagar\\anaconda3\\envs\\tensorflow-gpu\\lib\\site-packages (from google-auth<2,>=1.6.3->tensorboard~=2.6->tensorflow) (0.2.8)\n",
      "Requirement already satisfied: cachetools<5.0,>=2.0.0 in c:\\users\\sagar\\anaconda3\\envs\\tensorflow-gpu\\lib\\site-packages (from google-auth<2,>=1.6.3->tensorboard~=2.6->tensorflow) (4.2.2)\n",
      "Requirement already satisfied: requests-oauthlib>=0.7.0 in c:\\users\\sagar\\anaconda3\\envs\\tensorflow-gpu\\lib\\site-packages (from google-auth-oauthlib<0.5,>=0.4.1->tensorboard~=2.6->tensorflow) (1.3.0)\n",
      "Requirement already satisfied: importlib-metadata in c:\\users\\sagar\\anaconda3\\envs\\tensorflow-gpu\\lib\\site-packages (from markdown>=2.6.8->tensorboard~=2.6->tensorflow) (3.10.0)\n",
      "Requirement already satisfied: pyasn1<0.5.0,>=0.4.6 in c:\\users\\sagar\\anaconda3\\envs\\tensorflow-gpu\\lib\\site-packages (from pyasn1-modules>=0.2.1->google-auth<2,>=1.6.3->tensorboard~=2.6->tensorflow) (0.4.8)\n",
      "Requirement already satisfied: chardet<5,>=3.0.2 in c:\\users\\sagar\\anaconda3\\envs\\tensorflow-gpu\\lib\\site-packages (from requests<3,>=2.21.0->tensorboard~=2.6->tensorflow) (4.0.0)\n",
      "Requirement already satisfied: urllib3<1.27,>=1.21.1 in c:\\users\\sagar\\anaconda3\\envs\\tensorflow-gpu\\lib\\site-packages (from requests<3,>=2.21.0->tensorboard~=2.6->tensorflow) (1.26.4)\n",
      "Requirement already satisfied: idna<3,>=2.5 in c:\\users\\sagar\\anaconda3\\envs\\tensorflow-gpu\\lib\\site-packages (from requests<3,>=2.21.0->tensorboard~=2.6->tensorflow) (2.10)\n",
      "Requirement already satisfied: certifi>=2017.4.17 in c:\\users\\sagar\\anaconda3\\envs\\tensorflow-gpu\\lib\\site-packages (from requests<3,>=2.21.0->tensorboard~=2.6->tensorflow) (2021.5.30)\n",
      "Requirement already satisfied: oauthlib>=3.0.0 in c:\\users\\sagar\\anaconda3\\envs\\tensorflow-gpu\\lib\\site-packages (from requests-oauthlib>=0.7.0->google-auth-oauthlib<0.5,>=0.4.1->tensorboard~=2.6->tensorflow) (3.1.1)\n",
      "Requirement already satisfied: dataclasses in c:\\users\\sagar\\anaconda3\\envs\\tensorflow-gpu\\lib\\site-packages (from werkzeug>=0.11.15->tensorboard~=2.6->tensorflow) (0.8)\n",
      "Requirement already satisfied: zipp>=0.5 in c:\\users\\sagar\\anaconda3\\envs\\tensorflow-gpu\\lib\\site-packages (from importlib-metadata->markdown>=2.6.8->tensorboard~=2.6->tensorflow) (3.4.1)\n"
     ]
    },
    {
     "name": "stderr",
     "output_type": "stream",
     "text": [
      "WARNING: Error parsing requirements for matplotlib: [Errno 2] No such file or directory: 'c:\\\\users\\\\sagar\\\\anaconda3\\\\envs\\\\tensorflow-gpu\\\\lib\\\\site-packages\\\\matplotlib-3.4.3.dist-info\\\\METADATA'\n"
     ]
    }
   ],
   "source": [
    "# Install packages\n",
    "import sys\n",
    "!{sys.executable} -m pip install pydicom\n",
    "!{sys.executable} -m pip install opencv-python\n",
    "!{sys.executable} -m pip install tensorflow\n"
   ]
  },
  {
   "cell_type": "code",
   "execution_count": 2,
   "id": "dbecbcaa",
   "metadata": {},
   "outputs": [],
   "source": [
    "# IMPORT PACKAGES\n",
    "import warnings; warnings.filterwarnings('ignore')\n",
    "import pandas as pd, numpy as np\n",
    "import matplotlib.pyplot as plt\n",
    "from tqdm import tqdm_notebook\n",
    "import os, zipfile, random, csv\n",
    "import seaborn as sns\n",
    "import pydicom as dcm\n",
    "from glob import glob\n",
    "import cv2\n",
    "\n",
    "%matplotlib inline\n",
    "\n",
    "# CUSTOM MODULES\n",
    "from eda import *\n",
    "from visualize import *"
   ]
  },
  {
   "cell_type": "code",
   "execution_count": 3,
   "id": "fd07fd18",
   "metadata": {},
   "outputs": [],
   "source": [
    "# LOAD DATA\n",
    "DATA_DIR = 'data/'\n",
    "TRAIN_IMAGES = os.path.join(DATA_DIR + 'stage_2_train_images/')\n",
    "TEST_IMAGES = os.path.join(DATA_DIR + 'stage_2_test_images/')\n",
    "OUTPUT_DIR = 'output/'\n",
    "\n",
    "np.random.seed(42)"
   ]
  },
  {
   "cell_type": "markdown",
   "id": "327206a4",
   "metadata": {},
   "source": [
    "## Exploratory Data Analysis (EDA)\n",
    "Here as a part of EDA, we will:\n",
    "* Start with understanding of the data with a brief on train/test labels and respective class info\n",
    "* Look at the first five rows of both the csvs (train and test)\n",
    "* Identify how are classes and target distributed\n",
    "* Check the number of patients with 1, 2, ... bounding boxes\n",
    "* Read and extract metadata from dicom files\n",
    "* Perform analysis on some of the features from dicom files\n",
    "* Check some random images from the training dataset\n",
    "* Draw insights from the data at various stages of EDA"
   ]
  },
  {
   "cell_type": "markdown",
   "id": "6e86bcf8",
   "metadata": {},
   "source": [
    "### Reading CSVs\n",
    "* Images for the current stage in the `stage_2_train_images` and `stage_2_test_images`.\n",
    "* Training data: `stage_2_train_labels.csv`\n",
    "* `stage_2_detailed_class_info.csv` containing detailed information about the positive and negative classes in the training set"
   ]
  },
  {
   "cell_type": "code",
   "execution_count": 4,
   "id": "2e4aff36",
   "metadata": {},
   "outputs": [
    {
     "name": "stdout",
     "output_type": "stream",
     "text": [
      "------------------------------ Reading Datasets (two csv files) ------------------------------\n",
      "Train Labels dataframe has 30227 rows and 6 columns\n",
      "Class info dataframe has 30227 rows and 2 columns\n",
      "Number of duplicates in patientID in train labels dataframe: 3543\n",
      "Number of duplicates in patientID in class info dataframe: 3543\n"
     ]
    }
   ],
   "source": [
    "print('--'*15, 'Reading Datasets (two csv files)', '--'*15)\n",
    "train_labels = pd.read_csv(DATA_DIR +'/stage_2_train_labels.csv/'+'stage_2_train_labels.csv')\n",
    "class_info = pd.read_csv(DATA_DIR +'/stage_2_detailed_class_info.csv/'+'stage_2_detailed_class_info.csv')\n",
    "\n",
    "print(f'Train Labels dataframe has {train_labels.shape[0]} rows and {train_labels.shape[1]} columns')\n",
    "print(f'Class info dataframe has {class_info.shape[0]} rows and {class_info.shape[1]} columns')\n",
    "print('Number of duplicates in patientID in train labels dataframe: {}'.format(len(train_labels) - (train_labels['patientId'].nunique())))\n",
    "print('Number of duplicates in patientID in class info dataframe: {}'.format(len(class_info) - (class_info['patientId'].nunique())))"
   ]
  },
  {
   "cell_type": "code",
   "execution_count": 5,
   "id": "ecba2cc9",
   "metadata": {},
   "outputs": [
    {
     "name": "stdout",
     "output_type": "stream",
     "text": [
      "-------------------- First five rows of both dataframes (train_labels, class_info) --------------------\n",
      "Train labels dataframe:\n",
      "\n"
     ]
    },
    {
     "data": {
      "text/html": [
       "<div>\n",
       "<style scoped>\n",
       "    .dataframe tbody tr th:only-of-type {\n",
       "        vertical-align: middle;\n",
       "    }\n",
       "\n",
       "    .dataframe tbody tr th {\n",
       "        vertical-align: top;\n",
       "    }\n",
       "\n",
       "    .dataframe thead th {\n",
       "        text-align: right;\n",
       "    }\n",
       "</style>\n",
       "<table border=\"1\" class=\"dataframe\">\n",
       "  <thead>\n",
       "    <tr style=\"text-align: right;\">\n",
       "      <th></th>\n",
       "      <th>patientId</th>\n",
       "      <th>x</th>\n",
       "      <th>y</th>\n",
       "      <th>width</th>\n",
       "      <th>height</th>\n",
       "      <th>Target</th>\n",
       "    </tr>\n",
       "  </thead>\n",
       "  <tbody>\n",
       "    <tr>\n",
       "      <th>0</th>\n",
       "      <td>0004cfab-14fd-4e49-80ba-63a80b6bddd6</td>\n",
       "      <td>NaN</td>\n",
       "      <td>NaN</td>\n",
       "      <td>NaN</td>\n",
       "      <td>NaN</td>\n",
       "      <td>0</td>\n",
       "    </tr>\n",
       "    <tr>\n",
       "      <th>1</th>\n",
       "      <td>00313ee0-9eaa-42f4-b0ab-c148ed3241cd</td>\n",
       "      <td>NaN</td>\n",
       "      <td>NaN</td>\n",
       "      <td>NaN</td>\n",
       "      <td>NaN</td>\n",
       "      <td>0</td>\n",
       "    </tr>\n",
       "    <tr>\n",
       "      <th>2</th>\n",
       "      <td>00322d4d-1c29-4943-afc9-b6754be640eb</td>\n",
       "      <td>NaN</td>\n",
       "      <td>NaN</td>\n",
       "      <td>NaN</td>\n",
       "      <td>NaN</td>\n",
       "      <td>0</td>\n",
       "    </tr>\n",
       "    <tr>\n",
       "      <th>3</th>\n",
       "      <td>003d8fa0-6bf1-40ed-b54c-ac657f8495c5</td>\n",
       "      <td>NaN</td>\n",
       "      <td>NaN</td>\n",
       "      <td>NaN</td>\n",
       "      <td>NaN</td>\n",
       "      <td>0</td>\n",
       "    </tr>\n",
       "    <tr>\n",
       "      <th>4</th>\n",
       "      <td>00436515-870c-4b36-a041-de91049b9ab4</td>\n",
       "      <td>264.0</td>\n",
       "      <td>152.0</td>\n",
       "      <td>213.0</td>\n",
       "      <td>379.0</td>\n",
       "      <td>1</td>\n",
       "    </tr>\n",
       "  </tbody>\n",
       "</table>\n",
       "</div>"
      ],
      "text/plain": [
       "                              patientId      x      y  width  height  Target\n",
       "0  0004cfab-14fd-4e49-80ba-63a80b6bddd6    NaN    NaN    NaN     NaN       0\n",
       "1  00313ee0-9eaa-42f4-b0ab-c148ed3241cd    NaN    NaN    NaN     NaN       0\n",
       "2  00322d4d-1c29-4943-afc9-b6754be640eb    NaN    NaN    NaN     NaN       0\n",
       "3  003d8fa0-6bf1-40ed-b54c-ac657f8495c5    NaN    NaN    NaN     NaN       0\n",
       "4  00436515-870c-4b36-a041-de91049b9ab4  264.0  152.0  213.0   379.0       1"
      ]
     },
     "metadata": {},
     "output_type": "display_data"
    },
    {
     "name": "stdout",
     "output_type": "stream",
     "text": [
      "\n",
      "Class info dataframe:\n",
      "\n"
     ]
    },
    {
     "data": {
      "text/html": [
       "<div>\n",
       "<style scoped>\n",
       "    .dataframe tbody tr th:only-of-type {\n",
       "        vertical-align: middle;\n",
       "    }\n",
       "\n",
       "    .dataframe tbody tr th {\n",
       "        vertical-align: top;\n",
       "    }\n",
       "\n",
       "    .dataframe thead th {\n",
       "        text-align: right;\n",
       "    }\n",
       "</style>\n",
       "<table border=\"1\" class=\"dataframe\">\n",
       "  <thead>\n",
       "    <tr style=\"text-align: right;\">\n",
       "      <th></th>\n",
       "      <th>patientId</th>\n",
       "      <th>class</th>\n",
       "    </tr>\n",
       "  </thead>\n",
       "  <tbody>\n",
       "    <tr>\n",
       "      <th>0</th>\n",
       "      <td>0004cfab-14fd-4e49-80ba-63a80b6bddd6</td>\n",
       "      <td>No Lung Opacity / Not Normal</td>\n",
       "    </tr>\n",
       "    <tr>\n",
       "      <th>1</th>\n",
       "      <td>00313ee0-9eaa-42f4-b0ab-c148ed3241cd</td>\n",
       "      <td>No Lung Opacity / Not Normal</td>\n",
       "    </tr>\n",
       "    <tr>\n",
       "      <th>2</th>\n",
       "      <td>00322d4d-1c29-4943-afc9-b6754be640eb</td>\n",
       "      <td>No Lung Opacity / Not Normal</td>\n",
       "    </tr>\n",
       "    <tr>\n",
       "      <th>3</th>\n",
       "      <td>003d8fa0-6bf1-40ed-b54c-ac657f8495c5</td>\n",
       "      <td>Normal</td>\n",
       "    </tr>\n",
       "    <tr>\n",
       "      <th>4</th>\n",
       "      <td>00436515-870c-4b36-a041-de91049b9ab4</td>\n",
       "      <td>Lung Opacity</td>\n",
       "    </tr>\n",
       "  </tbody>\n",
       "</table>\n",
       "</div>"
      ],
      "text/plain": [
       "                              patientId                         class\n",
       "0  0004cfab-14fd-4e49-80ba-63a80b6bddd6  No Lung Opacity / Not Normal\n",
       "1  00313ee0-9eaa-42f4-b0ab-c148ed3241cd  No Lung Opacity / Not Normal\n",
       "2  00322d4d-1c29-4943-afc9-b6754be640eb  No Lung Opacity / Not Normal\n",
       "3  003d8fa0-6bf1-40ed-b54c-ac657f8495c5                        Normal\n",
       "4  00436515-870c-4b36-a041-de91049b9ab4                  Lung Opacity"
      ]
     },
     "metadata": {},
     "output_type": "display_data"
    }
   ],
   "source": [
    "print('--'*10, 'First five rows of both dataframes (train_labels, class_info)', '--'*10)\n",
    "print('Train labels dataframe:\\n'); display(train_labels.head())\n",
    "print('\\nClass info dataframe:\\n'); display(class_info.head())"
   ]
  },
  {
   "cell_type": "code",
   "execution_count": 6,
   "id": "32160c32",
   "metadata": {},
   "outputs": [
    {
     "name": "stdout",
     "output_type": "stream",
     "text": [
      "Numbers of nulls in bounding boxes columns are equal to the 0s we've in Target column\n",
      "--------------------------------------------------------------------------------\n",
      "Checking nulls in bounding boxes columns: {'x': 20672, 'y': 20672, 'width': 20672, 'height': 20672}\n",
      "Checking value counts for the targets: {0: 20672, 1: 9555}\n"
     ]
    }
   ],
   "source": [
    "print('Numbers of nulls in bounding boxes columns are equal to the 0s we\\'ve in Target column'); print('--'*40)\n",
    "print('Checking nulls in bounding boxes columns: {}'.format(train_labels[['x', 'y', 'width', 'height']].isnull().sum().to_dict())) \n",
    "print('Checking value counts for the targets: {}'.format(train_labels['Target'].value_counts().to_dict()))"
   ]
  },
  {
   "cell_type": "code",
   "execution_count": 7,
   "id": "f2ff023d",
   "metadata": {},
   "outputs": [
    {
     "name": "stdout",
     "output_type": "stream",
     "text": [
      "Lets check the distribution of `Target` and `class` column\n",
      "--------------------------------------------------------------------------------\n"
     ]
    },
    {
     "data": {
      "image/png": "[encoded data removed]",
      "text/plain": [
       "<Figure size 720x432 with 2 Axes>"
      ]
     },
     "metadata": {},
     "output_type": "display_data"
    }
   ],
   "source": [
    "print('Lets check the distribution of `Target` and `class` column'); print('--'*40)\n",
    "fig = plt.figure(figsize = (10, 6))\n",
    "ax = fig.add_subplot(121)\n",
    "g = (train_labels['Target'].value_counts()\n",
    "    .plot(kind = 'pie', autopct = '%.0f%%', \n",
    "          labels = ['Negative', 'Pneumonia Evidence'], \n",
    "          colors = ['lightgray', 'brown'], \n",
    "          startangle = 90, \n",
    "          title = 'Distribution of Target', fontsize = 12)\n",
    "    .set_ylabel(''))\n",
    "ax = fig.add_subplot(122)\n",
    "g = (class_info['class'].value_counts().sort_index(ascending = False)\n",
    "    .plot(kind = 'pie', autopct = '%.0f%%', \n",
    "          colors = ['gainsboro', 'lightgray', 'brown'], \n",
    "          startangle = 90, title = 'Distribution of Class', \n",
    "          fontsize = 12)\n",
    "    .set_ylabel(''))\n",
    "plt.tight_layout()"
   ]
  },
  {
   "cell_type": "code",
   "execution_count": 8,
   "id": "e5bb3ef4",
   "metadata": {},
   "outputs": [
    {
     "name": "stdout",
     "output_type": "stream",
     "text": [
      "Let's group by patient IDs and check number of bounding boxes for each unique patient ID\n",
      "--------------------------------------------------------------------------------\n",
      "Number of unique patient IDs in the dataset: 26684\n",
      "\n",
      "Number of patientIDs per bboxes in the dataset\n"
     ]
    },
    {
     "data": {
      "text/html": [
       "<div>\n",
       "<style scoped>\n",
       "    .dataframe tbody tr th:only-of-type {\n",
       "        vertical-align: middle;\n",
       "    }\n",
       "\n",
       "    .dataframe tbody tr th {\n",
       "        vertical-align: top;\n",
       "    }\n",
       "\n",
       "    .dataframe thead th {\n",
       "        text-align: right;\n",
       "    }\n",
       "</style>\n",
       "<table border=\"1\" class=\"dataframe\">\n",
       "  <thead>\n",
       "    <tr style=\"text-align: right;\">\n",
       "      <th></th>\n",
       "      <th>number_of_patientIDs_per_boxes</th>\n",
       "    </tr>\n",
       "    <tr>\n",
       "      <th>number_of_boxes</th>\n",
       "      <th></th>\n",
       "    </tr>\n",
       "  </thead>\n",
       "  <tbody>\n",
       "    <tr>\n",
       "      <th>1</th>\n",
       "      <td>23286</td>\n",
       "    </tr>\n",
       "    <tr>\n",
       "      <th>2</th>\n",
       "      <td>3266</td>\n",
       "    </tr>\n",
       "    <tr>\n",
       "      <th>3</th>\n",
       "      <td>119</td>\n",
       "    </tr>\n",
       "    <tr>\n",
       "      <th>4</th>\n",
       "      <td>13</td>\n",
       "    </tr>\n",
       "  </tbody>\n",
       "</table>\n",
       "</div>"
      ],
      "text/plain": [
       "                 number_of_patientIDs_per_boxes\n",
       "number_of_boxes                                \n",
       "1                                         23286\n",
       "2                                          3266\n",
       "3                                           119\n",
       "4                                            13"
      ]
     },
     "execution_count": 8,
     "metadata": {},
     "output_type": "execute_result"
    }
   ],
   "source": [
    "print('Let\\'s group by patient IDs and check number of bounding boxes for each unique patient ID');print('--'*40)\n",
    "bboxes = train_labels.groupby('patientId').size().to_frame('number_of_boxes').reset_index()\n",
    "train_labels = train_labels.merge(bboxes, on = 'patientId', how = 'left')\n",
    "print('Number of unique patient IDs in the dataset: {}'.format(len(bboxes)))\n",
    "print('\\nNumber of patientIDs per bboxes in the dataset')\n",
    "(bboxes.groupby('number_of_boxes')\n",
    ".size()\n",
    ".to_frame('number_of_patientIDs_per_boxes')\n",
    ".reset_index()\n",
    ".set_index('number_of_boxes')\n",
    ".sort_values(by = 'number_of_boxes'))"
   ]
  },
  {
   "cell_type": "code",
   "execution_count": 9,
   "id": "735bcf56",
   "metadata": {},
   "outputs": [
    {
     "name": "stdout",
     "output_type": "stream",
     "text": [
      "Let's also check whether each patientId has only one type of class\n",
      "--------------------------------------------------------------------------------\n",
      "Yes, each patientId is associated with only 1 class\n",
      "Shape of the dataset after the merge: (30227, 8)\n"
     ]
    }
   ],
   "source": [
    "print('Let\\'s also check whether each patientId has only one type of class'); print('--'*40)\n",
    "print('Yes, each patientId is associated with only {} class'.format(class_info.groupby(['patientId'])['class'].nunique().max()))\n",
    "\n",
    "# Merge the two dataframes\n",
    "train_class = pd.concat([train_labels, class_info['class']], axis = 1)\n",
    "print('Shape of the dataset after the merge: {}'.format(train_class.shape))"
   ]
  },
  {
   "cell_type": "code",
   "execution_count": 10,
   "id": "7c34aed3",
   "metadata": {},
   "outputs": [
    {
     "data": {
      "text/html": [
       "<div>\n",
       "<style scoped>\n",
       "    .dataframe tbody tr th:only-of-type {\n",
       "        vertical-align: middle;\n",
       "    }\n",
       "\n",
       "    .dataframe tbody tr th {\n",
       "        vertical-align: top;\n",
       "    }\n",
       "\n",
       "    .dataframe thead th {\n",
       "        text-align: right;\n",
       "    }\n",
       "</style>\n",
       "<table border=\"1\" class=\"dataframe\">\n",
       "  <thead>\n",
       "    <tr style=\"text-align: right;\">\n",
       "      <th></th>\n",
       "      <th>patientId</th>\n",
       "      <th>x</th>\n",
       "      <th>y</th>\n",
       "      <th>width</th>\n",
       "      <th>height</th>\n",
       "      <th>Target</th>\n",
       "      <th>number_of_boxes</th>\n",
       "      <th>class</th>\n",
       "    </tr>\n",
       "  </thead>\n",
       "  <tbody>\n",
       "    <tr>\n",
       "      <th>0</th>\n",
       "      <td>0004cfab-14fd-4e49-80ba-63a80b6bddd6</td>\n",
       "      <td>NaN</td>\n",
       "      <td>NaN</td>\n",
       "      <td>NaN</td>\n",
       "      <td>NaN</td>\n",
       "      <td>0</td>\n",
       "      <td>1</td>\n",
       "      <td>No Lung Opacity / Not Normal</td>\n",
       "    </tr>\n",
       "    <tr>\n",
       "      <th>1</th>\n",
       "      <td>00313ee0-9eaa-42f4-b0ab-c148ed3241cd</td>\n",
       "      <td>NaN</td>\n",
       "      <td>NaN</td>\n",
       "      <td>NaN</td>\n",
       "      <td>NaN</td>\n",
       "      <td>0</td>\n",
       "      <td>1</td>\n",
       "      <td>No Lung Opacity / Not Normal</td>\n",
       "    </tr>\n",
       "    <tr>\n",
       "      <th>2</th>\n",
       "      <td>00322d4d-1c29-4943-afc9-b6754be640eb</td>\n",
       "      <td>NaN</td>\n",
       "      <td>NaN</td>\n",
       "      <td>NaN</td>\n",
       "      <td>NaN</td>\n",
       "      <td>0</td>\n",
       "      <td>1</td>\n",
       "      <td>No Lung Opacity / Not Normal</td>\n",
       "    </tr>\n",
       "    <tr>\n",
       "      <th>3</th>\n",
       "      <td>003d8fa0-6bf1-40ed-b54c-ac657f8495c5</td>\n",
       "      <td>NaN</td>\n",
       "      <td>NaN</td>\n",
       "      <td>NaN</td>\n",
       "      <td>NaN</td>\n",
       "      <td>0</td>\n",
       "      <td>1</td>\n",
       "      <td>Normal</td>\n",
       "    </tr>\n",
       "    <tr>\n",
       "      <th>4</th>\n",
       "      <td>00436515-870c-4b36-a041-de91049b9ab4</td>\n",
       "      <td>264.0</td>\n",
       "      <td>152.0</td>\n",
       "      <td>213.0</td>\n",
       "      <td>379.0</td>\n",
       "      <td>1</td>\n",
       "      <td>2</td>\n",
       "      <td>Lung Opacity</td>\n",
       "    </tr>\n",
       "  </tbody>\n",
       "</table>\n",
       "</div>"
      ],
      "text/plain": [
       "                              patientId      x      y  width  height  Target  \\\n",
       "0  0004cfab-14fd-4e49-80ba-63a80b6bddd6    NaN    NaN    NaN     NaN       0   \n",
       "1  00313ee0-9eaa-42f4-b0ab-c148ed3241cd    NaN    NaN    NaN     NaN       0   \n",
       "2  00322d4d-1c29-4943-afc9-b6754be640eb    NaN    NaN    NaN     NaN       0   \n",
       "3  003d8fa0-6bf1-40ed-b54c-ac657f8495c5    NaN    NaN    NaN     NaN       0   \n",
       "4  00436515-870c-4b36-a041-de91049b9ab4  264.0  152.0  213.0   379.0       1   \n",
       "\n",
       "   number_of_boxes                         class  \n",
       "0                1  No Lung Opacity / Not Normal  \n",
       "1                1  No Lung Opacity / Not Normal  \n",
       "2                1  No Lung Opacity / Not Normal  \n",
       "3                1                        Normal  \n",
       "4                2                  Lung Opacity  "
      ]
     },
     "execution_count": 10,
     "metadata": {},
     "output_type": "execute_result"
    }
   ],
   "source": [
    "train_class.head()"
   ]
  },
  {
   "cell_type": "markdown",
   "id": "2a7a2492",
   "metadata": {},
   "source": [
    "#### Observations from the CSVs\n",
    "Based on analysis above, some of the observations:\n",
    "\n",
    "* Training data is having a set of patientIds and bounding boxes. Bounding boxes are defined as follows: x, y, width and height.\n",
    "* There are multiple records for patients. Number of duplicates in patientID = 3,543.\n",
    "* There is also a binary target column i.e. Target indicating there was evidence of pneumonia or no definitive evidence of pneumonia.\n",
    "* Class label contains: No Lung Opacity/Not Normal, Normal and Lung Opacity.\n",
    "* Chest examinations with Target = 1 i.e. ones with evidence of Pneumonia are associated with Lung Opacity class.\n",
    "* Chest examinations with Target = 0 i.e. those with no definitive effidence of Pneumonia are either of Normal or No Lung Opacity / Not Normal class.\n",
    "* About 23,286 patientIds (~87% of them) provided have 1 bounding boxes while 13 patients have 4 bounding boxes!!!!"
   ]
  },
  {
   "cell_type": "markdown",
   "id": "9750ef61",
   "metadata": {},
   "source": [
    "### Reading Images\n",
    "Images provided are stored in DICOM (.dcm) format which is an international standard to transmit, store, retrieve, print, process, and display medical imaging information. Digital Imaging and Communications in Medicine (DICOM) makes medical imaging information interoperable. We will make use of pydicom package here to read the images. "
   ]
  },
  {
   "cell_type": "code",
   "execution_count": 11,
   "id": "ca68df5b",
   "metadata": {},
   "outputs": [
    {
     "name": "stdout",
     "output_type": "stream",
     "text": [
      "Dataset.file_meta -------------------------------\n",
      "(0002, 0000) File Meta Information Group Length  UL: 202\n",
      "(0002, 0001) File Meta Information Version       OB: b'\\x00\\x01'\n",
      "(0002, 0002) Media Storage SOP Class UID         UI: Secondary Capture Image Storage\n",
      "(0002, 0003) Media Storage SOP Instance UID      UI: 1.2.276.0.7230010.3.1.4.8323329.28530.1517874485.775526\n",
      "(0002, 0010) Transfer Syntax UID                 UI: JPEG Baseline (Process 1)\n",
      "(0002, 0012) Implementation Class UID            UI: 1.2.276.0.7230010.3.0.3.6.0\n",
      "(0002, 0013) Implementation Version Name         SH: 'OFFIS_DCMTK_360'\n",
      "-------------------------------------------------\n",
      "(0008, 0005) Specific Character Set              CS: 'ISO_IR 100'\n",
      "(0008, 0016) SOP Class UID                       UI: Secondary Capture Image Storage\n",
      "(0008, 0018) SOP Instance UID                    UI: 1.2.276.0.7230010.3.1.4.8323329.28530.1517874485.775526\n",
      "(0008, 0020) Study Date                          DA: '19010101'\n",
      "(0008, 0030) Study Time                          TM: '000000.00'\n",
      "(0008, 0050) Accession Number                    SH: ''\n",
      "(0008, 0060) Modality                            CS: 'CR'\n",
      "(0008, 0064) Conversion Type                     CS: 'WSD'\n",
      "(0008, 0090) Referring Physician's Name          PN: ''\n",
      "(0008, 103e) Series Description                  LO: 'view: PA'\n",
      "(0010, 0010) Patient's Name                      PN: '0004cfab-14fd-4e49-80ba-63a80b6bddd6'\n",
      "(0010, 0020) Patient ID                          LO: '0004cfab-14fd-4e49-80ba-63a80b6bddd6'\n",
      "(0010, 0030) Patient's Birth Date                DA: ''\n",
      "(0010, 0040) Patient's Sex                       CS: 'F'\n",
      "(0010, 1010) Patient's Age                       AS: '51'\n",
      "(0018, 0015) Body Part Examined                  CS: 'CHEST'\n",
      "(0018, 5101) View Position                       CS: 'PA'\n",
      "(0020, 000d) Study Instance UID                  UI: 1.2.276.0.7230010.3.1.2.8323329.28530.1517874485.775525\n",
      "(0020, 000e) Series Instance UID                 UI: 1.2.276.0.7230010.3.1.3.8323329.28530.1517874485.775524\n",
      "(0020, 0010) Study ID                            SH: ''\n",
      "(0020, 0011) Series Number                       IS: '1'\n",
      "(0020, 0013) Instance Number                     IS: '1'\n",
      "(0020, 0020) Patient Orientation                 CS: ''\n",
      "(0028, 0002) Samples per Pixel                   US: 1\n",
      "(0028, 0004) Photometric Interpretation          CS: 'MONOCHROME2'\n",
      "(0028, 0010) Rows                                US: 1024\n",
      "(0028, 0011) Columns                             US: 1024\n",
      "(0028, 0030) Pixel Spacing                       DS: [0.14300000000000002, 0.14300000000000002]\n",
      "(0028, 0100) Bits Allocated                      US: 8\n",
      "(0028, 0101) Bits Stored                         US: 8\n",
      "(0028, 0102) High Bit                            US: 7\n",
      "(0028, 0103) Pixel Representation                US: 0\n",
      "(0028, 2110) Lossy Image Compression             CS: '01'\n",
      "(0028, 2114) Lossy Image Compression Method      CS: 'ISO_10918_1'\n",
      "(7fe0, 0010) Pixel Data                          OB: Array of 142006 elements\n"
     ]
    }
   ],
   "source": [
    "sample_patient_id = train_labels['patientId'][0]\n",
    "dcm_file = TRAIN_IMAGES + '{}.dcm'.format(sample_patient_id)\n",
    "dcm_data = dcm.read_file(dcm_file)\n",
    "\n",
    "print(dcm_data)"
   ]
  },
  {
   "cell_type": "markdown",
   "id": "aad077c4",
   "metadata": {},
   "source": [
    "#### Observations from dicom image files\n",
    "From the above sample we can see that dicom file contains some of the information that can be used for further analysis such as sex, age, body part examined (which should be mostly chest), view position and modality. Size of this image is 1024 x 1024 (rows x columns)."
   ]
  },
  {
   "cell_type": "markdown",
   "id": "5f0333af",
   "metadata": {},
   "source": [
    "### Feature extraction from the dicom image files\n",
    "Above we identified some features from the dicom files that can explored/used, let's focus on the following analysis from the image files\n",
    "* To understand distribution of age for those with evidence of lung opacity and those with no definite evidence of lung opacity.\n",
    "* To understand distribution of male and female for those with evidence of lung opacity and those with no definite evidence of lung opacity\n",
    "* Explore different view positions in the dataset\n",
    "* Explore modallity\n",
    "\n",
    "To get the features from dicom image files, we will make use of function (`get_tags`) defined in (`eda`)."
   ]
  },
  {
   "cell_type": "code",
   "execution_count": 12,
   "id": "4b811392",
   "metadata": {},
   "outputs": [
    {
     "name": "stdout",
     "output_type": "stream",
     "text": [
      "Read the training images file names and path\n",
      "--------------------------------------------------------------------------------\n",
      "Number of images in the training folder: 26684\n",
      "Columns in the training images dataframe: ['path', 'patientId']\n"
     ]
    }
   ],
   "source": [
    "print('Read the training images file names and path'); print('--'*40)\n",
    "images = pd.DataFrame({'path': glob(os.path.join(TRAIN_IMAGES, '*.dcm'))})\n",
    "images['patientId'] = images['path'].map(lambda x: os.path.splitext(os.path.basename(x))[0])\n",
    "print('Number of images in the training folder: {}'.format(images.shape[0]))\n",
    "print('Columns in the training images dataframe: {}'.format(list(images.columns)))\n",
    "assert images.shape[0] == len(list(set(train_class['patientId']))), 'Number of training images should be equal to the unique patientIds we have'"
   ]
  },
  {
   "cell_type": "code",
   "execution_count": 13,
   "id": "39529e80",
   "metadata": {},
   "outputs": [
    {
     "name": "stdout",
     "output_type": "stream",
     "text": [
      "Merge path from the `images` dataframe with `train_class` dataframe\n",
      "--------------------------------------------------------------------------------\n",
      "Shape of the `train_class` dataframe after merge: (30227, 9)\n"
     ]
    }
   ],
   "source": [
    "print('Merge path from the `images` dataframe with `train_class` dataframe'); print('--'*40)\n",
    "train_class = train_class.merge(images, on = 'patientId', how = 'left')\n",
    "print('Shape of the `train_class` dataframe after merge: {}'.format(train_class.shape))\n",
    "del images"
   ]
  },
  {
   "cell_type": "code",
   "execution_count": null,
   "id": "9d58de04",
   "metadata": {},
   "outputs": [
    {
     "name": "stdout",
     "output_type": "stream",
     "text": [
      "Get features such as ('PatientSex', 'PatientAge', 'BodyPartExamined', 'ViewPosition', 'Modality') from training images\n"
     ]
    },
    {
     "data": {
      "application/vnd.jupyter.widget-view+json": {
       "model_id": "3f0c06b5826442a792d338f1a3db3836",
       "version_major": 2,
       "version_minor": 0
      },
      "text/plain": [
       "0it [00:00, ?it/s]"
      ]
     },
     "metadata": {},
     "output_type": "display_data"
    }
   ],
   "source": [
    "print('Get features such as {} from training images'.format(('PatientSex', 'PatientAge', 'BodyPartExamined', 'ViewPosition', 'Modality')))\n",
    "get_tags(train_class, TRAIN_IMAGES)\n",
    "\n",
    "print('Saving the feature engineered dataframe for future use'); print('--'*40)\n",
    "train_class.to_pickle('./output/train_feature_engineered.pkl')"
   ]
  },
  {
   "cell_type": "code",
   "execution_count": null,
   "id": "5984465b",
   "metadata": {},
   "outputs": [],
   "source": [
    "train_class = pd.read_pickle('./output/train_feature_engineered.pkl')\n",
    "train_class.shape"
   ]
  },
  {
   "cell_type": "code",
   "execution_count": null,
   "id": "7fdb0356",
   "metadata": {},
   "outputs": [],
   "source": [
    "train_class.head()"
   ]
  },
  {
   "cell_type": "code",
   "execution_count": null,
   "id": "facfee7f",
   "metadata": {},
   "outputs": [],
   "source": [
    "print('As expected unique in `BodyPartExamined` is: {}'.format(train_class['BodyPartExamined'].unique()[0]))\n",
    "print('Unique in `Modality` is: {}'.format(train_class['Modality'].unique()[0])); print('--'*40)"
   ]
  },
  {
   "cell_type": "markdown",
   "id": "aa994a86",
   "metadata": {},
   "source": [
    "#### Understanding different View Positions\n",
    "As seen below, two View Positions that are in the training dataset are AP (Anterior/Posterior) and PA (Posterior/Anterior). These type of X-rays are mostly used to obtain the front-view. Apart from front-view, a lateral image is usually taken to complement the front-view.\n",
    "\n",
    "* **Posterior/Anterior (PA)**: In PA, X-Ray beam hits the posterior (back) part of the chest before the anterior (front) part. While obtaining the image patient is asked to stand with their chest against the film.\n",
    "* **Anterior/Posterior (AP)**: Attimes it's not possible for radiographers to acquire a PA chest X-ray. This is usually because the patient is too unwell to stand. AP projection images are of lower quality than PA images. Heart size is exaggerated (cardiothoracic ratio approximately 50%)"
   ]
  },
  {
   "cell_type": "code",
   "execution_count": null,
   "id": "8190bb06",
   "metadata": {},
   "outputs": [],
   "source": [
    "print('Get the distribution of `ViewPosition` overall and where Target = 1')\n",
    "print('Overall the distribution is almost equal for `ViewPosition` but where there\\'s a Pneumonia Evidence, `ViewPosition` is `AP`')\n",
    "print('AP: Anterior/Posterior, PA: Posterior/Anterior'); print('--'*40)\n",
    "fig = plt.figure(figsize = (10, 6))\n",
    "ax = fig.add_subplot(121)\n",
    "g = (train_class['ViewPosition'].value_counts()\n",
    "    .plot(kind = 'pie', autopct = '%.0f%%',  \n",
    "          startangle = 90,\n",
    "          title = 'Distribution of ViewPosition, Overall', \n",
    "          fontsize = 12)\n",
    "    .set_ylabel(''))\n",
    "ax = fig.add_subplot(122)\n",
    "g = (train_class.loc[train_class['Target'] == 1, 'ViewPosition']\n",
    "     .value_counts().sort_index(ascending = False)\n",
    "    .plot(kind = 'pie', autopct = '%.0f%%', \n",
    "          startangle = 90, counterclock = False, \n",
    "          title = 'Distribution of ViewPosition, Pneumonia Evidence', \n",
    "          fontsize = 12)\n",
    "    .set_ylabel(''))"
   ]
  },
  {
   "cell_type": "markdown",
   "id": "1f7f9bad",
   "metadata": {},
   "source": [
    "Exploring the bounding boxes for both view positions\n",
    "* Centers of the rectangle would be x+width/2 and y+height/2 as also described in the reference link [*(source)*](https://stackoverflow.com/questions/32471199/why-is-the-center-of-a-rectangle-xwidth-2-yheight-2-in-java).\n",
    "* We will make use of (`bboxes_scatter`) function in the (`eda`).\n",
    "Reference for these plots and function [*(source)*](https://www.kaggle.com/gpreda/rsna-pneumonia-detection-eda)."
   ]
  },
  {
   "cell_type": "code",
   "execution_count": null,
   "id": "40db9e87",
   "metadata": {},
   "outputs": [],
   "source": [
    "print('Plot x and y centers of bounding boxes'); print('--'*40)\n",
    "# Creating a dataframe with columns for center of the rectangles\n",
    "bboxes = train_class[train_class['Target'] == 1]\n",
    "bboxes['xw'] = bboxes['x'] + bboxes['width'] / 2\n",
    "bboxes['yh'] = bboxes['y'] + bboxes['height'] / 2\n",
    "\n",
    "g = sns.jointplot(x = bboxes['xw'], y = bboxes['yh'], data = bboxes, \n",
    "                  kind = 'hex', alpha = 0.5, size = 8)\n",
    "plt.suptitle('Bounding Boxes Location, Pneumonia Evidence')\n",
    "plt.tight_layout()\n",
    "plt.subplots_adjust(top = 0.95)\n",
    "plt.show()"
   ]
  },
  {
   "cell_type": "code",
   "execution_count": null,
   "id": "932f4b34",
   "metadata": {},
   "outputs": [],
   "source": [
    "print('Exploring the bounding boxes centers for `ViewPositions` for random sample = 1000')\n",
    "\n",
    "df1 = bboxes[bboxes['ViewPosition'] == 'PA'].sample(1000)\n",
    "df2 = bboxes[bboxes['ViewPosition'] == 'AP'].sample(1000)\n",
    "bboxes_scatter(df1, df2, 'View Position = PA', 'View Position = AP')"
   ]
  },
  {
   "cell_type": "markdown",
   "id": "b48a120f",
   "metadata": {},
   "source": [
    "#### Observations: PatientAge & PatientSex\n",
    "Above we saw,\n",
    "* For `PatientAge` we saw the distribution for both overall and where there were evidence of Pneumonia. Used binning to check the count of age bins. Count was highest for age group 40-78 both overall and with Pneumonia Evidence. \n",
    "* Saw distribution of age for Male and Female with Pneumonia Evidence.\n",
    "* Dataset had more Males (57%-58%) than Females (42%-43%).\n",
    "\n",
    ">Only `PatientAge`, `PatientSex` and `ViewPosition` are useful features from metadata.\n",
    "\n",
    "Dropping the other features from `train_class` dataframe and save that as a pickle file "
   ]
  },
  {
   "cell_type": "code",
   "execution_count": null,
   "id": "4e8cdcda",
   "metadata": {},
   "outputs": [],
   "source": [
    "train_class.drop(['BodyPartExamined', 'Modality'], inplace = True, axis = 1)\n",
    "train_class.to_pickle('./output/train_class_features.pkl')\n",
    "display(train_class.shape, train_class.head())"
   ]
  },
  {
   "cell_type": "markdown",
   "id": "e8924d98",
   "metadata": {},
   "source": [
    "### Check some random samples from training data\n",
    "Checking some random samples as below:\n",
    "* Different classes i.e. Normal, No Lung Opacity / Not Normal and Lung Opacity\n",
    "* Two view positions that we have in the dataset\n",
    "* For the one with Pneumonia Evidence and age = 92\n",
    "\n",
    "Now, we will make use of custom module (`eda`) and function (`plot_dicom_images`) already imported earlier to visualize the images."
   ]
  },
  {
   "cell_type": "code",
   "execution_count": null,
   "id": "f99a7e9e",
   "metadata": {},
   "outputs": [],
   "source": [
    "print('Checking sample for different classes')\n",
    "sample1 = train_class.loc[train_class['class'] == 'Normal'].iloc[0]\n",
    "sample2 = train_class.loc[train_class['class'] == 'No Lung Opacity / Not Normal'].iloc[0]\n",
    "sample3 = train_class.loc[train_class['class'] == 'Lung Opacity'].iloc[1]\n",
    "ds1 = dcm.dcmread(sample1['path'])\n",
    "ds2 = dcm.dcmread(sample2['path'])\n",
    "ds3 = dcm.dcmread(sample3['path'])\n",
    "\n",
    "f, ((ax1, ax2, ax3)) = plt.subplots(1, 3, figsize = (15, 8))\n",
    "ax1.imshow(ds1.pixel_array, cmap = plt.cm.bone)\n",
    "ax1.set_title('Class = Normal')\n",
    "ax1.axis('off')\n",
    "ax2.imshow(ds2.pixel_array, cmap = plt.cm.bone)\n",
    "ax2.set_title('Class = No Lung Opacity / Not Normal')\n",
    "ax2.axis('off')\n",
    "ax3.imshow(ds3.pixel_array, cmap = plt.cm.bone)\n",
    "ax3.set_title('Class = Lung Opacity')\n",
    "ax3.axis('off')\n",
    "plt.show()"
   ]
  },
  {
   "cell_type": "code",
   "execution_count": null,
   "id": "f2a17846",
   "metadata": {},
   "outputs": [],
   "source": [
    "sample4 = train_class.loc[(train_class['ViewPosition'] == 'AP')].iloc[0]\n",
    "sample5 = train_class.loc[(train_class['ViewPosition'] == 'PA')].iloc[0]\n",
    "ds4 = dcm.dcmread(sample4['path'])\n",
    "ds5 = dcm.dcmread(sample5['path'])\n",
    "\n",
    "f, ((ax1, ax2)) = plt.subplots(1, 2, figsize = (15, 8))\n",
    "ax1.imshow(ds4.pixel_array, cmap = plt.cm.bone)\n",
    "ax1.set_title('View Position = AP')\n",
    "ax1.axis('off')\n",
    "ax2.imshow(ds5.pixel_array, cmap = plt.cm.bone)\n",
    "ax2.set_title('View Position = PA')\n",
    "ax2.axis('off')\n",
    "plt.show()"
   ]
  },
  {
   "cell_type": "code",
   "execution_count": null,
   "id": "b288f0c0",
   "metadata": {},
   "outputs": [],
   "source": [
    "# this function is a part of custom module imported earlier (`eda`)\n",
    "plot_dicom_images(data = train_class.loc[(train_class['Target'] == 1)].sample(9), \n",
    "                  df = train_class, img_path = TRAIN_IMAGES)"
   ]
  },
  {
   "cell_type": "markdown",
   "id": "53ced1f2",
   "metadata": {},
   "source": [
    "## Data Preparation"
   ]
  },
  {
   "cell_type": "markdown",
   "id": "b980efe0",
   "metadata": {},
   "source": [
    "### Split into Train & Valid\n",
    "* Splitting the list of training images in train and valid images\n",
    "* Random shuffle the list of training images"
   ]
  },
  {
   "cell_type": "code",
   "execution_count": null,
   "id": "ee8afa5a",
   "metadata": {},
   "outputs": [],
   "source": [
    "print('Create training and valid sets. Contains list of filenames'); print('--'*40)\n",
    "image_fns = os.listdir(TRAIN_IMAGES)\n",
    "random.shuffle(image_fns)\n",
    "val_size = round(len(image_fns)/10)\n",
    "train_size = len(image_fns) - val_size\n",
    "\n",
    "image_fns_train = image_fns[:train_size]\n",
    "image_fns_val = image_fns[train_size: (train_size + val_size)]\n",
    "\n",
    "print('Number of training samples: {}'.format(train_size))\n",
    "print('Number of valid samples: {}'.format(val_size))"
   ]
  },
  {
   "cell_type": "markdown",
   "id": "c3ad70d5",
   "metadata": {},
   "source": [
    "### Load Pneumonia Evidence\n",
    "[*(reference)*](https://www.kaggle.com/jonnedtc/cnn-segmentation-connected-components)\n",
    "\n",
    "* Dictionary contains pairs per row.\n",
    "* If there are multiple pneumonia evidence for a patient then the dictionary would contain multiple list tagged to a patient id key. If there's no pneumonia evidence it will have an empty list."
   ]
  },
  {
   "cell_type": "code",
   "execution_count": null,
   "id": "97a74517",
   "metadata": {},
   "outputs": [],
   "source": [
    "print('Load pneumonia evidence dictionary from `stage_2_train_labels.csv`'); print('--'*40)\n",
    "pneumonia_evidence = get_pneumonia_evidence(filename = 'stage_2_train_labels.csv')"
   ]
  },
  {
   "cell_type": "code",
   "execution_count": null,
   "id": "3c75823b",
   "metadata": {},
   "outputs": [],
   "source": [
    "list(pneumonia_evidence.keys())[0], list(pneumonia_evidence.values())[0]"
   ]
  },
  {
   "cell_type": "code",
   "execution_count": null,
   "id": "390b3d91",
   "metadata": {},
   "outputs": [],
   "source": [
    "print('Plot Masks generated using `generator` function, randomly'); print('--'*40)\n",
    "print('GROUND TRUTH', '--'*25)\n",
    "plot_masks(train_class, TRAIN_IMAGES, image_fns, pneumonia_evidence)\n",
    "plot_masks(train_class, TRAIN_IMAGES, image_fns, pneumonia_evidence)\n",
    "plot_masks(train_class, TRAIN_IMAGES, image_fns, pneumonia_evidence)"
   ]
  },
  {
   "cell_type": "code",
   "execution_count": null,
   "id": "f6809659",
   "metadata": {},
   "outputs": [],
   "source": []
  }
 ],
 "metadata": {
  "kernelspec": {
   "display_name": "Python 3",
   "language": "python",
   "name": "python3"
  },
  "language_info": {
   "codemirror_mode": {
    "name": "ipython",
    "version": 3
   },
   "file_extension": ".py",
   "mimetype": "text/x-python",
   "name": "python",
   "nbconvert_exporter": "python",
   "pygments_lexer": "ipython3",
   "version": "3.6.5"
  }
 },
 "nbformat": 4,
 "nbformat_minor": 5
}
